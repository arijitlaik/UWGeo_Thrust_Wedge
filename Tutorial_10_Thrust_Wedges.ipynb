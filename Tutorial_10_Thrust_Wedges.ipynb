{
  "cells": [
    {
      "cell_type": "markdown",
      "source": [
        "# Thust Wedge Tutorial\n",
        "\n",
        "Model Setup: Arijit Laik(a.laik@vu.nl)\n",
        "\n",
        "Revision: Romain Beucher (rbeucher@unimelb.edu.au)\n",
        "\nThis tutorial is mostly based off Ruh et al. (2013) and other similar stuides, which examine the development thrust sheet and or accretionary wegdes with visco-plastic rheologies .In this 2D model, the boundary conditions, initial conditions,geometry material properties are based on Ruh et al. and other such similar studies.(see Ruh et al. 2013 and references therein: J.B. Ruh, T. Gerya nd J.-P. Burg (2013), G3, v.14(4), p. 1131-1155)"
      ],
      "metadata": {}
    },
    {
      "cell_type": "markdown",
      "source": [
        "![Tutorial10](./images/Tutorial_10.gif)"
      ],
      "metadata": {}
    },
    {
      "cell_type": "code",
      "source": [
        "import os\n",
        "import UWGeodynamics as GEO\n",
        "import numpy as np\n",
        "import glucifer"
      ],
      "outputs": [],
      "execution_count": null,
      "metadata": {
        "collapsed": false,
        "outputHidden": false,
        "inputHidden": false
      }
    },
    {
      "cell_type": "markdown",
      "source": [
        "### Model Scaling"
      ],
      "metadata": {}
    },
    {
      "cell_type": "code",
      "source": [
        "u = GEO.UnitRegistry\n",
        "\n",
        "velocity = 1 * u.centimeter / u.year\n",
        "model_length = 100. * u.kilometer\n",
        "bodyforce = 2700. * u.kilogram / u.metre**3 * 9.81 * u.meter / u.second**2\n",
        "\n",
        "KL = model_length\n",
        "Kt = KL / velocity\n",
        "KM = bodyforce * KL**2 * Kt**2\n",
        "\n",
        "GEO.scaling[\"[length]\"] = KL\n",
        "GEO.scaling[\"[time]\"] = Kt\n",
        "GEO.scaling[\"[mass]\"] = KM"
      ],
      "outputs": [],
      "execution_count": null,
      "metadata": {
        "collapsed": false,
        "outputHidden": false,
        "inputHidden": false
      }
    },
    {
      "cell_type": "code",
      "source": [
        "k.to(u.meter**2/u.year)"
      ],
      "outputs": [],
      "execution_count": null,
      "metadata": {
        "collapsed": false,
        "outputHidden": false,
        "inputHidden": false
      }
    },
    {
      "cell_type": "code",
      "source": [
        "Model = GEO.Model(\n",
        "    elementRes=(256 , 128),\n",
        "    minCoord=(0. * u.kilometer, -7 * u.kilometer),\n",
        "    maxCoord=(128. * u.kilometer, 9. * u.kilometer),\n",
        "    gravity=(0.0, -9.81 * u.meter / u.second**2))"
      ],
      "outputs": [],
      "execution_count": null,
      "metadata": {
        "collapsed": false,
        "outputHidden": false,
        "inputHidden": false
      }
    },
    {
      "cell_type": "code",
      "source": [
        "Model.outputDir = \"outputs_tutorial10\""
      ],
      "outputs": [],
      "execution_count": null,
      "metadata": {
        "collapsed": false,
        "outputHidden": false,
        "inputHidden": false
      }
    },
    {
      "cell_type": "markdown",
      "source": [
        "### Material Setup\n",
        "\nWe will start by defining the air layer, the rigid base and the frictional layer."
      ],
      "metadata": {}
    },
    {
      "cell_type": "code",
      "source": [
        "air_shape = GEO.shapes.Layer(top=Model.top, bottom=0. * u.kilometer)\n",
        "fricLayerShape = GEO.shapes.Layer(top=Model.bottom + 1. * u.kilometer, bottom=Model.bottom + 0.5 * u.kilometer)\n",
        "rigidBaseShape = GEO.shapes.Layer(top=Model.bottom + 0.5 * u.kilometer, bottom=Model.bottom)\n",
        "\n",
        "air = Model.add_material(name=\"Air\", shape=air_shape)\n",
        "frictionalBasal = Model.add_material(name=\"Frictional\", shape=fricLayerShape)\n",
        "rigidBase = Model.add_material(name=\"Frictional\", shape=rigidBaseShape)\n",
        "sediment = Model.add_material(name=\"Sediment\")"
      ],
      "outputs": [],
      "execution_count": null,
      "metadata": {
        "collapsed": false,
        "outputHidden": false,
        "inputHidden": false
      }
    },
    {
      "cell_type": "markdown",
      "source": [
        "### Pile of sedimentary layers"
      ],
      "metadata": {}
    },
    {
      "cell_type": "markdown",
      "source": [
        "We define a 6km thick pile of sedimentary layers, with each layer being 0.5 km thick, for a total of 12 layers"
      ],
      "metadata": {}
    },
    {
      "cell_type": "code",
      "source": [
        "top_pile = 0.\n",
        "bottom_pile = -6.0 * u.kilometer\n",
        "\n",
        "NLayers = 12\n",
        "layer_thickness = (top_pile - bottom_pile) / NLayers\n",
        "\n",
        "plastic_pile = []\n",
        "\n",
        "layer_above = air_shape\n",
        "\n",
        "for index in range(NLayers):\n",
        "    shape = GEO.shapes.Layer(top=layer_above.bottom, bottom=layer_above.bottom - layer_thickness)\n",
        "    material = Model.add_material(name=\"Plastic {0}\".format(index), shape=shape)\n",
        "    plastic_pile.append(material)\n",
        "    layer_above = shape"
      ],
      "outputs": [],
      "execution_count": null,
      "metadata": {
        "collapsed": false,
        "outputHidden": false,
        "inputHidden": false
      }
    },
    {
      "cell_type": "code",
      "source": [
        "colours = 'tan #3A3A3A #00a8a8 ' + 6 * '#425e6a salmon '\n",
        "\n",
        "FigMat = glucifer.Figure(figsize=(1200, 250), quality=3)\n",
        "FigMat.Points(Model.swarm, Model.materialField,\n",
        "           discrete=True,\n",
        "           colours=colours,\n",
        "           fn_mask=Model.materialField > air.index)\n",
        "FigMat.objects[0].colourBar[\"binlabels\"] = True\n",
        "FigMat.show()"
      ],
      "outputs": [],
      "execution_count": null,
      "metadata": {
        "collapsed": false,
        "outputHidden": false,
        "inputHidden": false
      }
    },
    {
      "cell_type": "markdown",
      "source": [
        "## Model (Global) properties"
      ],
      "metadata": {}
    },
    {
      "cell_type": "code",
      "source": [
        "Model.density = 2700 * u.kilogram / u.metre**3\n",
        "Model.viscosity = 1e23 * u.pascal * u.second\n",
        "Model.maxViscosity = 1e23 * u.pascal * u.second\n",
        "Model.minViscosity = 5e19 * u.pascal * u.second"
      ],
      "outputs": [],
      "execution_count": null,
      "metadata": {
        "collapsed": false,
        "outputHidden": false,
        "inputHidden": false
      }
    },
    {
      "cell_type": "markdown",
      "source": [
        "## Viscosity"
      ],
      "metadata": {}
    },
    {
      "cell_type": "code",
      "source": [
        "air.viscosity = 1e19 * u.pascal * u.second\n",
        "air.minViscosity = 1e19 * u.pascal * u.second\n",
        "air.density = 1. * u.kilogram / u.metre**3\n",
        "\n",
        "# Note that this is not necessary as this does not differ from the\n",
        "# Model property.\n",
        "for material in plastic_pile:\n",
        "    material.density = 2700 * u.kilogram / u.metre**3\n",
        "    material.viscosity = 1e23 * u.pascal * u.second\n",
        "\n",
        "frictionalBasal.viscosity = 1e23 * u.pascal * u.second\n",
        "rigidBase.viscosity = 1e23 * u.pascal * u.second"
      ],
      "outputs": [],
      "execution_count": null,
      "metadata": {
        "collapsed": false,
        "outputHidden": false,
        "inputHidden": false
      }
    },
    {
      "cell_type": "markdown",
      "source": [
        "## Plasticity"
      ],
      "metadata": {}
    },
    {
      "cell_type": "code",
      "source": [
        "plastic_Law = GEO.DruckerPrager(\n",
        "        cohesion=20. * u.megapascal,\n",
        "        cohesionAfterSoftening=4. * u.megapascal,\n",
        "        frictionCoefficient=np.tan(np.radians(25.0)),\n",
        "        frictionAfterSoftening=np.tan(np.radians(20.0)),\n",
        "        epsilon1=0.01,\n",
        "        epsilon2=0.06\n",
        "    )\n",
        "sediment.plasticity = GEO.DruckerPrager(\n",
        "        cohesion=10. * u.megapascal,\n",
        "        cohesionAfterSoftening=4. * u.megapascal,\n",
        "        frictionCoefficient=np.tan(np.radians(20.0)),\n",
        "        frictionAfterSoftening=np.tan(np.radians(15.0)),\n",
        "        epsilon1=0.01,\n",
        "        epsilon2=0.06\n",
        "    )\n",
        "for material in plastic_pile:\n",
        "    material.plasticity = plastic_Law\n",
        "\n",
        "frictionalBasal.plasticity = GEO.DruckerPrager(\n",
        "    cohesion=0.1 * u.megapascal,\n",
        "    frictionCoefficient=np.tan(np.radians(12.0)),\n",
        "    frictionAfterSoftening=np.tan(np.radians(6.0)),\n",
        "    epsilon1=0.01,\n",
        "    epsilon2=0.06\n",
        ")"
      ],
      "outputs": [],
      "execution_count": null,
      "metadata": {
        "collapsed": false,
        "outputHidden": false,
        "inputHidden": false
      }
    },
    {
      "cell_type": "markdown",
      "source": [
        "## Velocity Boundary Conditions\n",
        "The rigid base has the same velocity(=1cm/year,or velocity of the left wall), the linear gradational velocity is in the low frictional layer, this prevents the rigid bottom sheet from bending at the left edge, moreover as the rigid bottom sheet is analogous to a Mylar(PET) conveyor belt / sheet in sandbox models(Konstantinovskaya and Malavieille, 2011[https://doi.org/10.1016/j.tecto.2011.01.020], or Bose et al 2014[https://doi.org/10.1016/j.jsg.2014.07.004])\n",
        "The boundary conditions  simulate the mechanics of convergent plate boundaries where a rigid backstop scrapes upper levels of the crust off a rigid moving “plate”. This is comparable to setups of analog models, where a rough sheet lying below sand layers is pulled out below a fixed and rigid backstop .This setup also matches the boundary conditions used in the analytical critical wedge theory. New swarms coming in through the left side allow for simulation of long term deformation.\n",
        "\n",
        "![setupandBCs](./images/Tutorial_10_bcs.png)\n"
      ],
      "metadata": {}
    },
    {
      "cell_type": "code",
      "source": [
        "import underworld.function as fn\n",
        "\n",
        "tapeL=frictionalBasal\n",
        "flthick=GEO.nd(tapeL.top-tapeL.bottom)\n",
        "\n",
        "conditions = [(Model.y <= GEO.nd(rigidBase.top), GEO.nd(-velocity)),\n",
        "              (Model.y < GEO.nd(tapeL.top),\n",
        "               GEO.nd(-velocity)*(flthick-(Model.y-GEO.nd(tapeL.bottom)))/flthick),\n",
        "              (True, GEO.nd(0. * u.centimeter / u.year))]\n",
        "\n",
        "fn_condition = fn.branching.conditional(conditions)\n",
        "\n",
        "Model.set_velocityBCs(left=[fn_condition, 0.],\n",
        "                      right=[-velocity, None],\n",
        "                      top=[None, None],\n",
        "                      bottom=[-velocity, 0.])"
      ],
      "outputs": [],
      "execution_count": null,
      "metadata": {
        "collapsed": false,
        "outputHidden": false,
        "inputHidden": false
      }
    },
    {
      "cell_type": "code",
      "source": [
        "Fig = glucifer.Figure(figsize=(1200, 250), quality=3)\n",
        "Fig.Surface(Model.mesh, fn.math.dot(Model.velocityField, Model.velocityField))\n",
        "Fig.show()"
      ],
      "outputs": [],
      "execution_count": null,
      "metadata": {
        "collapsed": false,
        "outputHidden": false,
        "inputHidden": false
      }
    },
    {
      "cell_type": "code",
      "source": [
        "Model.solver.set_inner_method(\"mumps\")\n",
        "Model.solver.set_penalty(1e6)\n",
        "GEO.rcParams[\"nonlinear.tolerance\"] = 1e-3\n",
        "GEO.rcParams[\"initial.nonlinear.tolerance\"]=1e-5"
      ],
      "outputs": [],
      "execution_count": null,
      "metadata": {
        "collapsed": false,
        "outputHidden": false,
        "inputHidden": false
      }
    },
    {
      "cell_type": "code",
      "source": [
        "Model.init_model()"
      ],
      "outputs": [],
      "execution_count": null,
      "metadata": {
        "collapsed": false,
        "outputHidden": false,
        "inputHidden": false
      }
    },
    {
      "cell_type": "code",
      "source": [
        "Fig = glucifer.Figure(figsize=(1200, 250), quality=3)\n",
        "Fig.Points(Model.swarm, GEO.Dimensionalize(Model.viscosityField, u.pascal * u.second), logScale=True)\n",
        "Fig.show()"
      ],
      "outputs": [],
      "execution_count": null,
      "metadata": {
        "collapsed": false,
        "outputHidden": false,
        "inputHidden": false
      }
    },
    {
      "cell_type": "code",
      "source": [
        "Model.surfaceProcesses = GEO.surfaceProcesses.Badlands(airIndex=[air.index], sedimentIndex=sediment.index,\n",
        "                                          XML=\"ressources/badlands.xml\", resolution=2. * u.kilometer,\n",
        "                                          checkpoint_interval=0.01 * u.megayears)"
      ],
      "outputs": [],
      "execution_count": null,
      "metadata": {
        "collapsed": false,
        "outputHidden": false,
        "inputHidden": false
      }
    },
    {
      "cell_type": "code",
      "source": [
        "def post_solve_hook():\n",
        "    global FigMat\n",
        "    if Model.step % 10 == 0:\n",
        "        FigMat.save(\"Material-{0}.png\".format(Model.step))\n",
        "\nModel.postSolveHook = post_solve_hook"
      ],
      "outputs": [],
      "execution_count": null,
      "metadata": {
        "collapsed": false,
        "outputHidden": false,
        "inputHidden": false
      }
    },
    {
      "cell_type": "code",
      "source": [
        "Model.run_for(.2*u.megayears, checkpoint_interval=0.1 * u.megayear, restartStep=None)"
      ],
      "outputs": [],
      "execution_count": null,
      "metadata": {
        "collapsed": false,
        "outputHidden": false,
        "inputHidden": false
      }
    },
    {
      "cell_type": "code",
      "source": [],
      "outputs": [],
      "execution_count": null,
      "metadata": {
        "collapsed": false,
        "outputHidden": false,
        "inputHidden": false
      }
    },
    {
      "cell_type": "code",
      "source": [
        "air.index"
      ],
      "outputs": [],
      "execution_count": null,
      "metadata": {
        "collapsed": false,
        "outputHidden": false,
        "inputHidden": false
      }
    }
  ],
  "metadata": {},
  "nbformat": 4,
  "nbformat_minor": 4
}